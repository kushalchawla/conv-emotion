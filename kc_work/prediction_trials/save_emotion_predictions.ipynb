{
 "cells": [
  {
   "cell_type": "code",
   "execution_count": 2,
   "metadata": {},
   "outputs": [
    {
     "name": "stdout",
     "output_type": "stream",
     "text": [
      "The autoreload extension is already loaded. To reload it, use:\n",
      "  %reload_ext autoreload\n"
     ]
    }
   ],
   "source": [
    "%load_ext autoreload\n",
    "%autoreload 1\n",
    "%aimport prediction_models\n",
    "\n",
    "import numpy as np \n",
    "import pandas as pd \n",
    "import json\n",
    "from pandas.io.json import json_normalize\n",
    "import nltk\n",
    "import copy\n",
    "import random\n",
    "from collections import Counter\n",
    "import operator\n",
    "import math"
   ]
  },
  {
   "cell_type": "code",
   "execution_count": 3,
   "metadata": {},
   "outputs": [],
   "source": [
    "def get_utterances(item):\n",
    "    \n",
    "    utterances = []\n",
    "    \n",
    "    for act in item['acts']:\n",
    "        \n",
    "        if (act['text'] not in ['Submit-Deal', 'Accept-Deal', 'Reject-Deal', 'Walk-Away', 'Submit-Post-Survey']):\n",
    "            utterances.append(act['text'])\n",
    "            \n",
    "    return utterances\n",
    "\n",
    "def remove_emo_from_utter(txt):\n",
    "    return txt.replace('🙂', ' ').replace('😮', ' ').replace('☹️', ' ').replace('😡', ' ')\n",
    "\n",
    "def remove_emoticons(all_utterances):\n",
    "    \n",
    "    new_all_utterances = []\n",
    "    for utter in all_utterances:\n",
    "        new_all_utterances.append(remove_emo_from_utter(utter))\n",
    "    \n",
    "    return new_all_utterances"
   ]
  },
  {
   "cell_type": "code",
   "execution_count": 4,
   "metadata": {},
   "outputs": [
    {
     "name": "stdout",
     "output_type": "stream",
     "text": [
      "1030\n",
      "dict_keys(['convo_is_finished', 'world_tag', 'bad_workers', 'acts', 'turns', 'workers', 'fpath', 'qualtrics', 'dialogue_id'])\n"
     ]
    }
   ],
   "source": [
    "in_f = \"/home/ICT2000/chawla/Documents/internship2020/git_repo/storage/airtable/all_data-1030-shuffled.json\" \n",
    "with open(in_f) as f:\n",
    "    all_data = json.load(f)\n",
    "    \n",
    "print(len(all_data))\n",
    "print(all_data[0].keys())"
   ]
  },
  {
   "cell_type": "code",
   "execution_count": 12,
   "metadata": {},
   "outputs": [],
   "source": [
    "model_obj = prediction_models.EmotionTwitterDataModel()"
   ]
  },
  {
   "cell_type": "code",
   "execution_count": 17,
   "metadata": {},
   "outputs": [
    {
     "name": "stdout",
     "output_type": "stream",
     "text": [
      "11919 11.571844660194175\n",
      "0\n",
      "500\n",
      "1000\n",
      "1500\n",
      "2000\n",
      "2500\n",
      "3000\n",
      "3500\n",
      "4000\n",
      "4500\n",
      "5000\n",
      "5500\n",
      "6000\n",
      "6500\n",
      "7000\n",
      "7500\n",
      "8000\n",
      "8500\n",
      "9000\n",
      "9500\n",
      "10000\n",
      "10500\n",
      "11000\n",
      "11500\n",
      "11589\n"
     ]
    }
   ],
   "source": [
    "num_utts = 100000\n",
    "rem_emoticons = True#True\n",
    "\n",
    "all_utterances = []\n",
    "\n",
    "for item in all_data:\n",
    "    all_utterances += get_utterances(item)\n",
    "\n",
    "if(rem_emoticons):\n",
    "    all_utterances = remove_emoticons(all_utterances)\n",
    "\n",
    "random.shuffle(all_utterances)\n",
    "\n",
    "print(len(all_utterances), len(all_utterances)/len(all_data))\n",
    "\n",
    "utterance2pred = {}\n",
    "\n",
    "for i, utt in enumerate(all_utterances[:num_utts]):\n",
    "    if(not i%500):\n",
    "        print(i)\n",
    "    pred = model_obj.predict(utt)\n",
    "    utterance2pred[utt] = pred\n",
    "    \n",
    "print(len(utterance2pred))\n",
    "    \n",
    "with open(\"/home/ICT2000/chawla/Documents/internship2020/git_repo/storage/emotion_predictions.json\", 'w') as fp:\n",
    "    json.dump(utterance2pred, fp)"
   ]
  },
  {
   "cell_type": "code",
   "execution_count": 20,
   "metadata": {},
   "outputs": [],
   "source": [
    "for utt, pred in utterance2pred.items():\n",
    "    if(pred not in ['joy', 'anger', 'sadness', 'love', 'fear', 'surprise']):\n",
    "        utterance2pred[utt] = 'fear'"
   ]
  },
  {
   "cell_type": "code",
   "execution_count": 21,
   "metadata": {},
   "outputs": [],
   "source": [
    "for utt, pred in utterance2pred.items():\n",
    "    if(pred not in ['joy', 'anger', 'sadness', 'love', 'fear', 'surprise']):\n",
    "        print(utt, '#', pred)"
   ]
  },
  {
   "cell_type": "code",
   "execution_count": 22,
   "metadata": {},
   "outputs": [],
   "source": [
    "with open(\"/home/ICT2000/chawla/Documents/internship2020/git_repo/storage/emotion_predictions.json\", 'w') as fp:\n",
    "    json.dump(utterance2pred, fp)"
   ]
  },
  {
   "cell_type": "code",
   "execution_count": null,
   "metadata": {},
   "outputs": [],
   "source": []
  }
 ],
 "metadata": {
  "kernelspec": {
   "display_name": "Python 3",
   "language": "python",
   "name": "python3"
  },
  "language_info": {
   "codemirror_mode": {
    "name": "ipython",
    "version": 3
   },
   "file_extension": ".py",
   "mimetype": "text/x-python",
   "name": "python",
   "nbconvert_exporter": "python",
   "pygments_lexer": "ipython3",
   "version": "3.7.3"
  }
 },
 "nbformat": 4,
 "nbformat_minor": 2
}
